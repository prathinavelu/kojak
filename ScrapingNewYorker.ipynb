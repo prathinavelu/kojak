{
 "metadata": {
  "name": "",
  "signature": "sha256:1522490439b86971baed65e40439dbd7e86bc01c8298c3e3a19a25a2b8727b01"
 },
 "nbformat": 3,
 "nbformat_minor": 0,
 "worksheets": [
  {
   "cells": [
    {
     "cell_type": "code",
     "collapsed": false,
     "input": [
      "from selenium import webdriver\n",
      "\n",
      "from selenium.webdriver.common.keys import Keys\n",
      "\n",
      "#Following are optional required\n",
      "from selenium.webdriver.common.by import By\n",
      "from selenium.webdriver.support.ui import Select\n",
      "from selenium.webdriver.support.ui import WebDriverWait\n",
      "from selenium.webdriver.support import expected_conditions as EC\n",
      "from selenium.common.exceptions import NoSuchElementException\n",
      "import time\n",
      "from pymongo import MongoClient\n",
      "import datetime\n",
      "import pickle\n",
      "import pandas as pd\n",
      "import seaborn as sn\n",
      "import matplotlib.pyplot as plt\n",
      "import numpy as np\n",
      "%matplotlib inline\n",
      "with open('story_list.pkl','rb') as infile:\n",
      "    story_list = pickle.load(infile)"
     ],
     "language": "python",
     "metadata": {},
     "outputs": [],
     "prompt_number": 79
    },
    {
     "cell_type": "code",
     "collapsed": false,
     "input": [
      "client=MongoClient()\n",
      "stories=client.dsbc.newyorker"
     ],
     "language": "python",
     "metadata": {},
     "outputs": [],
     "prompt_number": 2
    },
    {
     "cell_type": "code",
     "collapsed": false,
     "input": [
      "stories.remove()"
     ],
     "language": "python",
     "metadata": {},
     "outputs": [
      {
       "metadata": {},
       "output_type": "pyout",
       "prompt_number": 23,
       "text": [
        "{u'n': 0, u'ok': 1}"
       ]
      }
     ],
     "prompt_number": 23
    },
    {
     "cell_type": "code",
     "collapsed": false,
     "input": [
      "from selenium.common.exceptions import TimeoutException\n",
      "\n",
      "baseurl = str(story_list[0]['story_url'])\n",
      "username = \"praveen.rt@gmail.com\"\n",
      "password = \"617prav\"\n",
      "mydriver =webdriver.Chrome('/Users/Praveen/chromedriver')\n",
      "mydriver.get(baseurl)\n",
      "time.sleep(3)\n",
      "send_button = mydriver.find_element_by_id(\"sign-in\")\n",
      "send_button.click()\n",
      "login_form = mydriver.find_element_by_id('username')\n",
      "login_form.send_keys(username)\n",
      "password_form=mydriver.find_element_by_id('userpass')\n",
      "password_form.send_keys(password)\n",
      "remember_button = mydriver.find_element_by_class_name(\"rememberTxt-screen\")\n",
      "remember_button.click()\n",
      "signin_button = mydriver.find_element_by_id(\"signIn\")\n",
      "signin_button.click()\n",
      "time.sleep(1)\n",
      "#password_form.send_keys(Keys.RETURN)\n",
      "    \n",
      "for s in story_list[446:]:\n",
      "    d = s\n",
      "    txt = ''\n",
      "    if int(d['date'][-4:]) < 2001:\n",
      "        break\n",
      "    newurl = str(d['story_url'])\n",
      "    mydriver.get(newurl)\n",
      "    try:\n",
      "        parentElement = WebDriverWait(mydriver, 10).until(\n",
      "            EC.presence_of_element_located((By.ID,\"articleBody\"))\n",
      "    )\n",
      "    except TimeoutException:\n",
      "        continue    \n",
      "    elementList = parentElement.find_elements_by_tag_name(\"p\")\n",
      "    for element in elementList:\n",
      "        txt = txt + ' ' + element.text\n",
      "    d['text'] = txt\n",
      "    stories.insert(d)"
     ],
     "language": "python",
     "metadata": {},
     "outputs": [],
     "prompt_number": 83
    },
    {
     "cell_type": "code",
     "collapsed": false,
     "input": [
      "stories.count()"
     ],
     "language": "python",
     "metadata": {},
     "outputs": [
      {
       "metadata": {},
       "output_type": "pyout",
       "prompt_number": 84,
       "text": [
        "640"
       ]
      }
     ],
     "prompt_number": 84
    },
    {
     "cell_type": "code",
     "collapsed": false,
     "input": [
      "stories.find()[639]"
     ],
     "language": "python",
     "metadata": {},
     "outputs": [
      {
       "metadata": {},
       "output_type": "pyout",
       "prompt_number": 86,
       "text": [
        "{u'_id': ObjectId('54638653650f381454a42c7b'),\n",
        " u'author': u'John Updike',\n",
        " u'date': u'January 8, 2001',\n",
        " u'description': u\"ABSTRACT: Short story about a man whose wife dies of cancer, and his attempt to revive a love affair with a woman he had known while married. . . \\u201cShe has such lovely eyes,\\u201d Henry's mother says unknowingly of Lila, the woman he is having an affair with. In contrast to his cold wife Irene, Lila is gutsy and natural. He recalls her diving naked off a dock and beckoning him to follow. Troubled about his affair, he develops gastritis. Lila confesses the affair to her husband Pete. \\u201cHe doesn't need me,\\u201d she explains. \\u201cHe needs my asshole.\\u201d Henry doesn't ask. Their affair dissolves. Irene dies of cancer in her sixties, leaving Henry free. He looks Lila up and visits her condo in Florida. He arrives an hour late. Lila invites him to swim. He recalls the weeks of agony before Irene's death and his late wife's stoicism\\u2026 He returns to the Florida inn he and Irene loved.\",\n",
        " u'story_url': u'http://www.newyorker.com/magazine/2001/01/08/free-5',\n",
        " u'text': u\" This article is available to subscribers only, in our archive viewer. Get immediate access to this article for just $1 a week by SUBSCRIBING NOW. ABSTRACT: Short story about a man whose wife dies of cancer, and his attempt to revive a love affair with a woman he had known while married. . . \\u201cShe has such lovely eyes,\\u201d Henry's mother says unknowingly of Lila, the woman he is having an affair with. In contrast to his cold wife Irene, Lila is gutsy and natural. He recalls her diving naked off a dock and beckoning him to follow. Troubled about his affair, he develops gastritis. Lila confesses the affair to her husband Pete. \\u201cHe doesn't need me,\\u201d she explains. \\u201cHe needs my asshole.\\u201d Henry doesn't ask. Their affair dissolves. Irene dies of cancer in her sixties, leaving Henry free. He looks Lila up and visits her condo in Florida. He arrives an hour late. Lila invites him to swim. He recalls the weeks of agony before Irene's death and his late wife's stoicism\\u2026 He returns to the Florida inn he and Irene loved.\",\n",
        " u'title': u'Free',\n",
        " u'word_count': u'160'}"
       ]
      }
     ],
     "prompt_number": 86
    },
    {
     "cell_type": "code",
     "collapsed": false,
     "input": [
      "int(story_list[445]['date'][-4:])"
     ],
     "language": "python",
     "metadata": {},
     "outputs": [
      {
       "metadata": {},
       "output_type": "pyout",
       "prompt_number": 82,
       "text": [
        "2005"
       ]
      }
     ],
     "prompt_number": 82
    },
    {
     "cell_type": "code",
     "collapsed": false,
     "input": [
      "\n",
      "parentElement = mydriver.find_element_by_class_name(\"articleBody\")\n",
      "elementList = parentElement.find_elements_by_tag_name(\"p\")\n",
      "for element in elementList:\n",
      "    print element.text"
     ],
     "language": "python",
     "metadata": {},
     "outputs": [
      {
       "ename": "NoSuchWindowException",
       "evalue": "Message: u'no such window: target window already closed\\nfrom unknown error: web view not found\\n  (Session info: chrome=38.0.2125.122)\\n  (Driver info: chromedriver=2.10.267517,platform=Mac OS X 10.9.4 x86_64)' ",
       "output_type": "pyerr",
       "traceback": [
        "\u001b[0;31m---------------------------------------------------------------------------\u001b[0m\n\u001b[0;31mNoSuchWindowException\u001b[0m                     Traceback (most recent call last)",
        "\u001b[0;32m<ipython-input-6-1a6bacab76a7>\u001b[0m in \u001b[0;36m<module>\u001b[0;34m()\u001b[0m\n\u001b[1;32m      1\u001b[0m \u001b[0;34m\u001b[0m\u001b[0m\n\u001b[0;32m----> 2\u001b[0;31m \u001b[0mparentElement\u001b[0m \u001b[0;34m=\u001b[0m \u001b[0mmydriver\u001b[0m\u001b[0;34m.\u001b[0m\u001b[0mfind_element_by_class_name\u001b[0m\u001b[0;34m(\u001b[0m\u001b[0;34m\"articleBody\"\u001b[0m\u001b[0;34m)\u001b[0m\u001b[0;34m\u001b[0m\u001b[0m\n\u001b[0m\u001b[1;32m      3\u001b[0m \u001b[0melementList\u001b[0m \u001b[0;34m=\u001b[0m \u001b[0mparentElement\u001b[0m\u001b[0;34m.\u001b[0m\u001b[0mfind_elements_by_tag_name\u001b[0m\u001b[0;34m(\u001b[0m\u001b[0;34m\"p\"\u001b[0m\u001b[0;34m)\u001b[0m\u001b[0;34m\u001b[0m\u001b[0m\n\u001b[1;32m      4\u001b[0m \u001b[0;32mfor\u001b[0m \u001b[0melement\u001b[0m \u001b[0;32min\u001b[0m \u001b[0melementList\u001b[0m\u001b[0;34m:\u001b[0m\u001b[0;34m\u001b[0m\u001b[0m\n\u001b[1;32m      5\u001b[0m     \u001b[0;32mprint\u001b[0m \u001b[0melement\u001b[0m\u001b[0;34m.\u001b[0m\u001b[0mtext\u001b[0m\u001b[0;34m\u001b[0m\u001b[0m\n",
        "\u001b[0;32m/usr/local/lib/python2.7/site-packages/selenium/webdriver/remote/webdriver.pyc\u001b[0m in \u001b[0;36mfind_element_by_class_name\u001b[0;34m(self, name)\u001b[0m\n\u001b[1;32m    348\u001b[0m             \u001b[0mdriver\u001b[0m\u001b[0;34m.\u001b[0m\u001b[0mfind_element_by_class_name\u001b[0m\u001b[0;34m(\u001b[0m\u001b[0;34m'foo'\u001b[0m\u001b[0;34m)\u001b[0m\u001b[0;34m\u001b[0m\u001b[0m\n\u001b[1;32m    349\u001b[0m         \"\"\"\n\u001b[0;32m--> 350\u001b[0;31m         \u001b[0;32mreturn\u001b[0m \u001b[0mself\u001b[0m\u001b[0;34m.\u001b[0m\u001b[0mfind_element\u001b[0m\u001b[0;34m(\u001b[0m\u001b[0mby\u001b[0m\u001b[0;34m=\u001b[0m\u001b[0mBy\u001b[0m\u001b[0;34m.\u001b[0m\u001b[0mCLASS_NAME\u001b[0m\u001b[0;34m,\u001b[0m \u001b[0mvalue\u001b[0m\u001b[0;34m=\u001b[0m\u001b[0mname\u001b[0m\u001b[0;34m)\u001b[0m\u001b[0;34m\u001b[0m\u001b[0m\n\u001b[0m\u001b[1;32m    351\u001b[0m \u001b[0;34m\u001b[0m\u001b[0m\n\u001b[1;32m    352\u001b[0m     \u001b[0;32mdef\u001b[0m \u001b[0mfind_elements_by_class_name\u001b[0m\u001b[0;34m(\u001b[0m\u001b[0mself\u001b[0m\u001b[0;34m,\u001b[0m \u001b[0mname\u001b[0m\u001b[0;34m)\u001b[0m\u001b[0;34m:\u001b[0m\u001b[0;34m\u001b[0m\u001b[0m\n",
        "\u001b[0;32m/usr/local/lib/python2.7/site-packages/selenium/webdriver/remote/webdriver.pyc\u001b[0m in \u001b[0;36mfind_element\u001b[0;34m(self, by, value)\u001b[0m\n\u001b[1;32m    660\u001b[0m \u001b[0;34m\u001b[0m\u001b[0m\n\u001b[1;32m    661\u001b[0m         return self.execute(Command.FIND_ELEMENT,\n\u001b[0;32m--> 662\u001b[0;31m                              {'using': by, 'value': value})['value']\n\u001b[0m\u001b[1;32m    663\u001b[0m \u001b[0;34m\u001b[0m\u001b[0m\n\u001b[1;32m    664\u001b[0m     \u001b[0;32mdef\u001b[0m \u001b[0mfind_elements\u001b[0m\u001b[0;34m(\u001b[0m\u001b[0mself\u001b[0m\u001b[0;34m,\u001b[0m \u001b[0mby\u001b[0m\u001b[0;34m=\u001b[0m\u001b[0mBy\u001b[0m\u001b[0;34m.\u001b[0m\u001b[0mID\u001b[0m\u001b[0;34m,\u001b[0m \u001b[0mvalue\u001b[0m\u001b[0;34m=\u001b[0m\u001b[0mNone\u001b[0m\u001b[0;34m)\u001b[0m\u001b[0;34m:\u001b[0m\u001b[0;34m\u001b[0m\u001b[0m\n",
        "\u001b[0;32m/usr/local/lib/python2.7/site-packages/selenium/webdriver/remote/webdriver.pyc\u001b[0m in \u001b[0;36mexecute\u001b[0;34m(self, driver_command, params)\u001b[0m\n\u001b[1;32m    171\u001b[0m         \u001b[0mresponse\u001b[0m \u001b[0;34m=\u001b[0m \u001b[0mself\u001b[0m\u001b[0;34m.\u001b[0m\u001b[0mcommand_executor\u001b[0m\u001b[0;34m.\u001b[0m\u001b[0mexecute\u001b[0m\u001b[0;34m(\u001b[0m\u001b[0mdriver_command\u001b[0m\u001b[0;34m,\u001b[0m \u001b[0mparams\u001b[0m\u001b[0;34m)\u001b[0m\u001b[0;34m\u001b[0m\u001b[0m\n\u001b[1;32m    172\u001b[0m         \u001b[0;32mif\u001b[0m \u001b[0mresponse\u001b[0m\u001b[0;34m:\u001b[0m\u001b[0;34m\u001b[0m\u001b[0m\n\u001b[0;32m--> 173\u001b[0;31m             \u001b[0mself\u001b[0m\u001b[0;34m.\u001b[0m\u001b[0merror_handler\u001b[0m\u001b[0;34m.\u001b[0m\u001b[0mcheck_response\u001b[0m\u001b[0;34m(\u001b[0m\u001b[0mresponse\u001b[0m\u001b[0;34m)\u001b[0m\u001b[0;34m\u001b[0m\u001b[0m\n\u001b[0m\u001b[1;32m    174\u001b[0m             response['value'] = self._unwrap_value(\n\u001b[1;32m    175\u001b[0m                 response.get('value', None))\n",
        "\u001b[0;32m/usr/local/lib/python2.7/site-packages/selenium/webdriver/remote/errorhandler.pyc\u001b[0m in \u001b[0;36mcheck_response\u001b[0;34m(self, response)\u001b[0m\n\u001b[1;32m    164\u001b[0m         \u001b[0;32melif\u001b[0m \u001b[0mexception_class\u001b[0m \u001b[0;34m==\u001b[0m \u001b[0mUnexpectedAlertPresentException\u001b[0m \u001b[0;32mand\u001b[0m \u001b[0;34m'alert'\u001b[0m \u001b[0;32min\u001b[0m \u001b[0mvalue\u001b[0m\u001b[0;34m:\u001b[0m\u001b[0;34m\u001b[0m\u001b[0m\n\u001b[1;32m    165\u001b[0m             \u001b[0;32mraise\u001b[0m \u001b[0mexception_class\u001b[0m\u001b[0;34m(\u001b[0m\u001b[0mmessage\u001b[0m\u001b[0;34m,\u001b[0m \u001b[0mscreen\u001b[0m\u001b[0;34m,\u001b[0m \u001b[0mstacktrace\u001b[0m\u001b[0;34m,\u001b[0m \u001b[0mvalue\u001b[0m\u001b[0;34m[\u001b[0m\u001b[0;34m'alert'\u001b[0m\u001b[0;34m]\u001b[0m\u001b[0;34m.\u001b[0m\u001b[0mget\u001b[0m\u001b[0;34m(\u001b[0m\u001b[0;34m'text'\u001b[0m\u001b[0;34m)\u001b[0m\u001b[0;34m)\u001b[0m\u001b[0;34m\u001b[0m\u001b[0m\n\u001b[0;32m--> 166\u001b[0;31m         \u001b[0;32mraise\u001b[0m \u001b[0mexception_class\u001b[0m\u001b[0;34m(\u001b[0m\u001b[0mmessage\u001b[0m\u001b[0;34m,\u001b[0m \u001b[0mscreen\u001b[0m\u001b[0;34m,\u001b[0m \u001b[0mstacktrace\u001b[0m\u001b[0;34m)\u001b[0m\u001b[0;34m\u001b[0m\u001b[0m\n\u001b[0m\u001b[1;32m    167\u001b[0m \u001b[0;34m\u001b[0m\u001b[0m\n\u001b[1;32m    168\u001b[0m     \u001b[0;32mdef\u001b[0m \u001b[0m_value_or_default\u001b[0m\u001b[0;34m(\u001b[0m\u001b[0mself\u001b[0m\u001b[0;34m,\u001b[0m \u001b[0mobj\u001b[0m\u001b[0;34m,\u001b[0m \u001b[0mkey\u001b[0m\u001b[0;34m,\u001b[0m \u001b[0mdefault\u001b[0m\u001b[0;34m)\u001b[0m\u001b[0;34m:\u001b[0m\u001b[0;34m\u001b[0m\u001b[0m\n",
        "\u001b[0;31mNoSuchWindowException\u001b[0m: Message: u'no such window: target window already closed\\nfrom unknown error: web view not found\\n  (Session info: chrome=38.0.2125.122)\\n  (Driver info: chromedriver=2.10.267517,platform=Mac OS X 10.9.4 x86_64)' "
       ]
      }
     ],
     "prompt_number": 6
    },
    {
     "cell_type": "code",
     "collapsed": false,
     "input": [
      "mydriver =webdriver.Chrome('/Users/Praveen/chromedriver')\n",
      "mydriver.get(baseurl)"
     ],
     "language": "python",
     "metadata": {},
     "outputs": [],
     "prompt_number": 81
    },
    {
     "cell_type": "code",
     "collapsed": false,
     "input": [
      "send_button = mydriver.find_element_by_id(\"sign-in\")\n",
      "send_button.click()"
     ],
     "language": "python",
     "metadata": {},
     "outputs": [],
     "prompt_number": 82
    },
    {
     "cell_type": "code",
     "collapsed": false,
     "input": [
      "login_form = mydriver.find_element_by_id('username')\n",
      "login_form.send_keys(username)\n",
      "\n",
      "password_form=mydriver.find_element_by_id('userpass')\n",
      "password_form.send_keys(password)\n",
      "password_form.send_keys(Keys.RETURN)"
     ],
     "language": "python",
     "metadata": {},
     "outputs": [],
     "prompt_number": 83
    },
    {
     "cell_type": "code",
     "collapsed": false,
     "input": [
      "mydriver.find_element_by_id('articleBody')"
     ],
     "language": "python",
     "metadata": {},
     "outputs": [
      {
       "ename": "WebDriverException",
       "evalue": "Message: u\"unknown error: Runtime.evaluate threw exception: TypeError: Cannot read property 'click' of null\\n  (Session info: chrome=38.0.2125.122)\\n  (Driver info: chromedriver=2.10.267517,platform=Mac OS X 10.9.4 x86_64)\" ",
       "output_type": "pyerr",
       "traceback": [
        "\u001b[0;31m---------------------------------------------------------------------------\u001b[0m\n\u001b[0;31mWebDriverException\u001b[0m                        Traceback (most recent call last)",
        "\u001b[0;32m<ipython-input-95-59e4d6605e70>\u001b[0m in \u001b[0;36m<module>\u001b[0;34m()\u001b[0m\n\u001b[0;32m----> 1\u001b[0;31m \u001b[0mmydriver\u001b[0m\u001b[0;34m.\u001b[0m\u001b[0mfind_element_by_id\u001b[0m\u001b[0;34m(\u001b[0m\u001b[0;34m'footer-ad-google'\u001b[0m\u001b[0;34m)\u001b[0m\u001b[0;34m\u001b[0m\u001b[0m\n\u001b[0m",
        "\u001b[0;32m/usr/local/lib/python2.7/site-packages/selenium/webdriver/remote/webdriver.pyc\u001b[0m in \u001b[0;36mfind_element_by_id\u001b[0;34m(self, id_)\u001b[0m\n\u001b[1;32m    204\u001b[0m             \u001b[0mdriver\u001b[0m\u001b[0;34m.\u001b[0m\u001b[0mfind_element_by_id\u001b[0m\u001b[0;34m(\u001b[0m\u001b[0;34m'foo'\u001b[0m\u001b[0;34m)\u001b[0m\u001b[0;34m\u001b[0m\u001b[0m\n\u001b[1;32m    205\u001b[0m         \"\"\"\n\u001b[0;32m--> 206\u001b[0;31m         \u001b[0;32mreturn\u001b[0m \u001b[0mself\u001b[0m\u001b[0;34m.\u001b[0m\u001b[0mfind_element\u001b[0m\u001b[0;34m(\u001b[0m\u001b[0mby\u001b[0m\u001b[0;34m=\u001b[0m\u001b[0mBy\u001b[0m\u001b[0;34m.\u001b[0m\u001b[0mID\u001b[0m\u001b[0;34m,\u001b[0m \u001b[0mvalue\u001b[0m\u001b[0;34m=\u001b[0m\u001b[0mid_\u001b[0m\u001b[0;34m)\u001b[0m\u001b[0;34m\u001b[0m\u001b[0m\n\u001b[0m\u001b[1;32m    207\u001b[0m \u001b[0;34m\u001b[0m\u001b[0m\n\u001b[1;32m    208\u001b[0m     \u001b[0;32mdef\u001b[0m \u001b[0mfind_elements_by_id\u001b[0m\u001b[0;34m(\u001b[0m\u001b[0mself\u001b[0m\u001b[0;34m,\u001b[0m \u001b[0mid_\u001b[0m\u001b[0;34m)\u001b[0m\u001b[0;34m:\u001b[0m\u001b[0;34m\u001b[0m\u001b[0m\n",
        "\u001b[0;32m/usr/local/lib/python2.7/site-packages/selenium/webdriver/remote/webdriver.pyc\u001b[0m in \u001b[0;36mfind_element\u001b[0;34m(self, by, value)\u001b[0m\n\u001b[1;32m    660\u001b[0m \u001b[0;34m\u001b[0m\u001b[0m\n\u001b[1;32m    661\u001b[0m         return self.execute(Command.FIND_ELEMENT,\n\u001b[0;32m--> 662\u001b[0;31m                              {'using': by, 'value': value})['value']\n\u001b[0m\u001b[1;32m    663\u001b[0m \u001b[0;34m\u001b[0m\u001b[0m\n\u001b[1;32m    664\u001b[0m     \u001b[0;32mdef\u001b[0m \u001b[0mfind_elements\u001b[0m\u001b[0;34m(\u001b[0m\u001b[0mself\u001b[0m\u001b[0;34m,\u001b[0m \u001b[0mby\u001b[0m\u001b[0;34m=\u001b[0m\u001b[0mBy\u001b[0m\u001b[0;34m.\u001b[0m\u001b[0mID\u001b[0m\u001b[0;34m,\u001b[0m \u001b[0mvalue\u001b[0m\u001b[0;34m=\u001b[0m\u001b[0mNone\u001b[0m\u001b[0;34m)\u001b[0m\u001b[0;34m:\u001b[0m\u001b[0;34m\u001b[0m\u001b[0m\n",
        "\u001b[0;32m/usr/local/lib/python2.7/site-packages/selenium/webdriver/remote/webdriver.pyc\u001b[0m in \u001b[0;36mexecute\u001b[0;34m(self, driver_command, params)\u001b[0m\n\u001b[1;32m    171\u001b[0m         \u001b[0mresponse\u001b[0m \u001b[0;34m=\u001b[0m \u001b[0mself\u001b[0m\u001b[0;34m.\u001b[0m\u001b[0mcommand_executor\u001b[0m\u001b[0;34m.\u001b[0m\u001b[0mexecute\u001b[0m\u001b[0;34m(\u001b[0m\u001b[0mdriver_command\u001b[0m\u001b[0;34m,\u001b[0m \u001b[0mparams\u001b[0m\u001b[0;34m)\u001b[0m\u001b[0;34m\u001b[0m\u001b[0m\n\u001b[1;32m    172\u001b[0m         \u001b[0;32mif\u001b[0m \u001b[0mresponse\u001b[0m\u001b[0;34m:\u001b[0m\u001b[0;34m\u001b[0m\u001b[0m\n\u001b[0;32m--> 173\u001b[0;31m             \u001b[0mself\u001b[0m\u001b[0;34m.\u001b[0m\u001b[0merror_handler\u001b[0m\u001b[0;34m.\u001b[0m\u001b[0mcheck_response\u001b[0m\u001b[0;34m(\u001b[0m\u001b[0mresponse\u001b[0m\u001b[0;34m)\u001b[0m\u001b[0;34m\u001b[0m\u001b[0m\n\u001b[0m\u001b[1;32m    174\u001b[0m             response['value'] = self._unwrap_value(\n\u001b[1;32m    175\u001b[0m                 response.get('value', None))\n",
        "\u001b[0;32m/usr/local/lib/python2.7/site-packages/selenium/webdriver/remote/errorhandler.pyc\u001b[0m in \u001b[0;36mcheck_response\u001b[0;34m(self, response)\u001b[0m\n\u001b[1;32m    164\u001b[0m         \u001b[0;32melif\u001b[0m \u001b[0mexception_class\u001b[0m \u001b[0;34m==\u001b[0m \u001b[0mUnexpectedAlertPresentException\u001b[0m \u001b[0;32mand\u001b[0m \u001b[0;34m'alert'\u001b[0m \u001b[0;32min\u001b[0m \u001b[0mvalue\u001b[0m\u001b[0;34m:\u001b[0m\u001b[0;34m\u001b[0m\u001b[0m\n\u001b[1;32m    165\u001b[0m             \u001b[0;32mraise\u001b[0m \u001b[0mexception_class\u001b[0m\u001b[0;34m(\u001b[0m\u001b[0mmessage\u001b[0m\u001b[0;34m,\u001b[0m \u001b[0mscreen\u001b[0m\u001b[0;34m,\u001b[0m \u001b[0mstacktrace\u001b[0m\u001b[0;34m,\u001b[0m \u001b[0mvalue\u001b[0m\u001b[0;34m[\u001b[0m\u001b[0;34m'alert'\u001b[0m\u001b[0;34m]\u001b[0m\u001b[0;34m.\u001b[0m\u001b[0mget\u001b[0m\u001b[0;34m(\u001b[0m\u001b[0;34m'text'\u001b[0m\u001b[0;34m)\u001b[0m\u001b[0;34m)\u001b[0m\u001b[0;34m\u001b[0m\u001b[0m\n\u001b[0;32m--> 166\u001b[0;31m         \u001b[0;32mraise\u001b[0m \u001b[0mexception_class\u001b[0m\u001b[0;34m(\u001b[0m\u001b[0mmessage\u001b[0m\u001b[0;34m,\u001b[0m \u001b[0mscreen\u001b[0m\u001b[0;34m,\u001b[0m \u001b[0mstacktrace\u001b[0m\u001b[0;34m)\u001b[0m\u001b[0;34m\u001b[0m\u001b[0m\n\u001b[0m\u001b[1;32m    167\u001b[0m \u001b[0;34m\u001b[0m\u001b[0m\n\u001b[1;32m    168\u001b[0m     \u001b[0;32mdef\u001b[0m \u001b[0m_value_or_default\u001b[0m\u001b[0;34m(\u001b[0m\u001b[0mself\u001b[0m\u001b[0;34m,\u001b[0m \u001b[0mobj\u001b[0m\u001b[0;34m,\u001b[0m \u001b[0mkey\u001b[0m\u001b[0;34m,\u001b[0m \u001b[0mdefault\u001b[0m\u001b[0;34m)\u001b[0m\u001b[0;34m:\u001b[0m\u001b[0;34m\u001b[0m\u001b[0m\n",
        "\u001b[0;31mWebDriverException\u001b[0m: Message: u\"unknown error: Runtime.evaluate threw exception: TypeError: Cannot read property 'click' of null\\n  (Session info: chrome=38.0.2125.122)\\n  (Driver info: chromedriver=2.10.267517,platform=Mac OS X 10.9.4 x86_64)\" "
       ]
      }
     ],
     "prompt_number": 95
    },
    {
     "cell_type": "code",
     "collapsed": false,
     "input": [
      "df = pd.DataFrame(slist)\n",
      "df.count()[0]"
     ],
     "language": "python",
     "metadata": {},
     "outputs": [
      {
       "metadata": {},
       "output_type": "pyout",
       "prompt_number": 60,
       "text": [
        "13056"
       ]
      }
     ],
     "prompt_number": 60
    },
    {
     "cell_type": "code",
     "collapsed": false,
     "input": [
      "df.head(5)"
     ],
     "language": "python",
     "metadata": {},
     "outputs": [
      {
       "html": [
        "<div style=\"max-height:1000px;max-width:1500px;overflow:auto;\">\n",
        "<table border=\"1\" class=\"dataframe\">\n",
        "  <thead>\n",
        "    <tr style=\"text-align: right;\">\n",
        "      <th></th>\n",
        "      <th>author</th>\n",
        "      <th>date</th>\n",
        "      <th>description</th>\n",
        "      <th>story_url</th>\n",
        "      <th>title</th>\n",
        "      <th>word_count</th>\n",
        "    </tr>\n",
        "  </thead>\n",
        "  <tbody>\n",
        "    <tr>\n",
        "      <th>0</th>\n",
        "      <td>    Dave Eggers</td>\n",
        "      <td> November 17, 2014</td>\n",
        "      <td> There is proud happiness, happiness born of do...</td>\n",
        "      <td> http://www.newyorker.com/magazine/2014/11/17/a...</td>\n",
        "      <td> The Alaska of Giants and Gods</td>\n",
        "      <td> 4440</td>\n",
        "    </tr>\n",
        "    <tr>\n",
        "      <th>1</th>\n",
        "      <td>    Dave Eggers</td>\n",
        "      <td> November 17, 2014</td>\n",
        "      <td> There is proud happiness, happiness born of do...</td>\n",
        "      <td> http://www.newyorker.com/magazine/2014/11/17/a...</td>\n",
        "      <td> The Alaska of Giants and Gods</td>\n",
        "      <td> 4440</td>\n",
        "    </tr>\n",
        "    <tr>\n",
        "      <th>2</th>\n",
        "      <td> Antonya Nelson</td>\n",
        "      <td> November 10, 2014</td>\n",
        "      <td> \u201cCell-phoning?\u201d her mother would ask her patie...</td>\n",
        "      <td> http://www.newyorker.com/magazine/2014/11/10/p...</td>\n",
        "      <td>             Primum Non Nocere</td>\n",
        "      <td> 5927</td>\n",
        "    </tr>\n",
        "    <tr>\n",
        "      <th>3</th>\n",
        "      <td>       Jess Row</td>\n",
        "      <td>  November 3, 2014</td>\n",
        "      <td> She had never perfected the trick of moistenin...</td>\n",
        "      <td> http://www.newyorker.com/magazine/2014/11/03/e...</td>\n",
        "      <td>                   The Empties</td>\n",
        "      <td> 8407</td>\n",
        "    </tr>\n",
        "    <tr>\n",
        "      <th>4</th>\n",
        "      <td>      Tom Hanks</td>\n",
        "      <td>  October 27, 2014</td>\n",
        "      <td> Travelling to the moon was way less complicate...</td>\n",
        "      <td> http://www.newyorker.com/magazine/2014/10/27/a...</td>\n",
        "      <td>           Alan Bean Plus Four</td>\n",
        "      <td> 2883</td>\n",
        "    </tr>\n",
        "  </tbody>\n",
        "</table>\n",
        "</div>"
       ],
       "metadata": {},
       "output_type": "pyout",
       "prompt_number": 84,
       "text": [
        "           author               date  \\\n",
        "0     Dave Eggers  November 17, 2014   \n",
        "1     Dave Eggers  November 17, 2014   \n",
        "2  Antonya Nelson  November 10, 2014   \n",
        "3        Jess Row   November 3, 2014   \n",
        "4       Tom Hanks   October 27, 2014   \n",
        "\n",
        "                                         description  \\\n",
        "0  There is proud happiness, happiness born of do...   \n",
        "1  There is proud happiness, happiness born of do...   \n",
        "2  \u201cCell-phoning?\u201d her mother would ask her patie...   \n",
        "3  She had never perfected the trick of moistenin...   \n",
        "4  Travelling to the moon was way less complicate...   \n",
        "\n",
        "                                           story_url  \\\n",
        "0  http://www.newyorker.com/magazine/2014/11/17/a...   \n",
        "1  http://www.newyorker.com/magazine/2014/11/17/a...   \n",
        "2  http://www.newyorker.com/magazine/2014/11/10/p...   \n",
        "3  http://www.newyorker.com/magazine/2014/11/03/e...   \n",
        "4  http://www.newyorker.com/magazine/2014/10/27/a...   \n",
        "\n",
        "                           title word_count  \n",
        "0  The Alaska of Giants and Gods       4440  \n",
        "1  The Alaska of Giants and Gods       4440  \n",
        "2              Primum Non Nocere       5927  \n",
        "3                    The Empties       8407  \n",
        "4            Alan Bean Plus Four       2883  "
       ]
      }
     ],
     "prompt_number": 84
    },
    {
     "cell_type": "code",
     "collapsed": false,
     "input": [
      "import datetime\n",
      "X=[]\n",
      "Y=[]\n",
      "for n in range(df.count()[0]):\n",
      "    try:\n",
      "        d = datetime.datetime.strptime(df.date[n],\"%B %d, %Y\")\n",
      "        if d.year > 2001:\n",
      "            X.append(d)\n",
      "            Y.append(df.word_count[n])\n",
      "    except:\n",
      "        pass"
     ],
     "language": "python",
     "metadata": {},
     "outputs": [],
     "prompt_number": 71
    },
    {
     "cell_type": "code",
     "collapsed": false,
     "input": [
      "import seaborn as sn\n",
      "import matplotlib.pyplot as plt\n",
      "import numpy as np\n",
      "%matplotlib inline\n",
      "plt.plot(X,Y)"
     ],
     "language": "python",
     "metadata": {},
     "outputs": [
      {
       "metadata": {},
       "output_type": "pyout",
       "prompt_number": 72,
       "text": [
        "[<matplotlib.lines.Line2D at 0x1143ba110>]"
       ]
      },
      {
       "metadata": {},
       "output_type": "display_data",
       "png": "[encoded data removed]",
       "text": [
        "<matplotlib.figure.Figure at 0x114248050>"
       ]
      }
     ],
     "prompt_number": 72
    },
    {
     "cell_type": "code",
     "collapsed": false,
     "input": [
      "import datetime\n",
      "datetime.datetime.strptime(X[0],\"%B %d, %Y\")"
     ],
     "language": "python",
     "metadata": {},
     "outputs": [
      {
       "metadata": {},
       "output_type": "pyout",
       "prompt_number": 53,
       "text": [
        "datetime.datetime(2014, 11, 17, 0, 0)"
       ]
      }
     ],
     "prompt_number": 53
    },
    {
     "cell_type": "code",
     "collapsed": false,
     "input": [
      "df.head()"
     ],
     "language": "python",
     "metadata": {},
     "outputs": [
      {
       "html": [
        "<div style=\"max-height:1000px;max-width:1500px;overflow:auto;\">\n",
        "<table border=\"1\" class=\"dataframe\">\n",
        "  <thead>\n",
        "    <tr style=\"text-align: right;\">\n",
        "      <th></th>\n",
        "      <th>author</th>\n",
        "      <th>date</th>\n",
        "      <th>description</th>\n",
        "      <th>story_url</th>\n",
        "      <th>title</th>\n",
        "      <th>word_count</th>\n",
        "    </tr>\n",
        "  </thead>\n",
        "  <tbody>\n",
        "    <tr>\n",
        "      <th>0</th>\n",
        "      <td>    Dave Eggers</td>\n",
        "      <td> November 17, 2014</td>\n",
        "      <td> There is proud happiness, happiness born of do...</td>\n",
        "      <td> http://www.newyorker.com/magazine/2014/11/17/a...</td>\n",
        "      <td> The Alaska of Giants and Gods</td>\n",
        "      <td> 4440</td>\n",
        "    </tr>\n",
        "    <tr>\n",
        "      <th>1</th>\n",
        "      <td>    Dave Eggers</td>\n",
        "      <td> November 17, 2014</td>\n",
        "      <td> There is proud happiness, happiness born of do...</td>\n",
        "      <td> http://www.newyorker.com/magazine/2014/11/17/a...</td>\n",
        "      <td> The Alaska of Giants and Gods</td>\n",
        "      <td> 4440</td>\n",
        "    </tr>\n",
        "    <tr>\n",
        "      <th>2</th>\n",
        "      <td> Antonya Nelson</td>\n",
        "      <td> November 10, 2014</td>\n",
        "      <td> \u201cCell-phoning?\u201d her mother would ask her patie...</td>\n",
        "      <td> http://www.newyorker.com/magazine/2014/11/10/p...</td>\n",
        "      <td>             Primum Non Nocere</td>\n",
        "      <td> 5927</td>\n",
        "    </tr>\n",
        "    <tr>\n",
        "      <th>3</th>\n",
        "      <td>       Jess Row</td>\n",
        "      <td>  November 3, 2014</td>\n",
        "      <td> She had never perfected the trick of moistenin...</td>\n",
        "      <td> http://www.newyorker.com/magazine/2014/11/03/e...</td>\n",
        "      <td>                   The Empties</td>\n",
        "      <td> 8407</td>\n",
        "    </tr>\n",
        "    <tr>\n",
        "      <th>4</th>\n",
        "      <td>      Tom Hanks</td>\n",
        "      <td>  October 27, 2014</td>\n",
        "      <td> Travelling to the moon was way less complicate...</td>\n",
        "      <td> http://www.newyorker.com/magazine/2014/10/27/a...</td>\n",
        "      <td>           Alan Bean Plus Four</td>\n",
        "      <td> 2883</td>\n",
        "    </tr>\n",
        "  </tbody>\n",
        "</table>\n",
        "</div>"
       ],
       "metadata": {},
       "output_type": "pyout",
       "prompt_number": 68,
       "text": [
        "           author               date  \\\n",
        "0     Dave Eggers  November 17, 2014   \n",
        "1     Dave Eggers  November 17, 2014   \n",
        "2  Antonya Nelson  November 10, 2014   \n",
        "3        Jess Row   November 3, 2014   \n",
        "4       Tom Hanks   October 27, 2014   \n",
        "\n",
        "                                         description  \\\n",
        "0  There is proud happiness, happiness born of do...   \n",
        "1  There is proud happiness, happiness born of do...   \n",
        "2  \u201cCell-phoning?\u201d her mother would ask her patie...   \n",
        "3  She had never perfected the trick of moistenin...   \n",
        "4  Travelling to the moon was way less complicate...   \n",
        "\n",
        "                                           story_url  \\\n",
        "0  http://www.newyorker.com/magazine/2014/11/17/a...   \n",
        "1  http://www.newyorker.com/magazine/2014/11/17/a...   \n",
        "2  http://www.newyorker.com/magazine/2014/11/10/p...   \n",
        "3  http://www.newyorker.com/magazine/2014/11/03/e...   \n",
        "4  http://www.newyorker.com/magazine/2014/10/27/a...   \n",
        "\n",
        "                           title word_count  \n",
        "0  The Alaska of Giants and Gods       4440  \n",
        "1  The Alaska of Giants and Gods       4440  \n",
        "2              Primum Non Nocere       5927  \n",
        "3                    The Empties       8407  \n",
        "4            Alan Bean Plus Four       2883  "
       ]
      }
     ],
     "prompt_number": 68
    },
    {
     "cell_type": "code",
     "collapsed": false,
     "input": [],
     "language": "python",
     "metadata": {},
     "outputs": []
    }
   ],
   "metadata": {}
  }
 ]
}